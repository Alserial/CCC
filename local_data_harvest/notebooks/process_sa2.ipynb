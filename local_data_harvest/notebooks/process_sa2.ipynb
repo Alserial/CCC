{
 "cells": [
  {
   "cell_type": "code",
   "execution_count": 7,
   "metadata": {},
   "outputs": [],
   "source": [
    "from environment import *"
   ]
  },
  {
   "cell_type": "markdown",
   "metadata": {},
   "source": [
    "### Grab URL for all weather sites"
   ]
  },
  {
   "cell_type": "code",
   "execution_count": 6,
   "metadata": {},
   "outputs": [],
   "source": [
    "URL = 'https://reg.bom.gov.au/vic/observations/vicall.shtml'\n",
    "\n",
    "def weather_api():\n",
    "    response = requests.get(URL)\n",
    "    if response.status_code == 200:\n",
    "        soup = BeautifulSoup(response.text, 'html.parser')\n",
    "        content_div = soup.findAll(\"th\", class_ = \"rowleftcolumn\")\n",
    "        apis = dict()\n",
    "        for row in content_div:\n",
    "            if \"href\" in str(row):\n",
    "                url_match = re.search(r'href=\"([^\"]+)', str(row))\n",
    "                name_match = re.search(r'id=\"([^\"]+)', str(row))\n",
    "                api = \"https://reg.bom.gov.au/\" + url_match.group(1).replace('products', 'fwo').replace('shtml', 'json')\n",
    "                apis[name_match.group(1)] = api\n",
    "        with open(\"../data/weather_APIs.json\", 'w') as f:\n",
    "            json.dump(apis, f)"
   ]
  },
  {
   "cell_type": "code",
   "execution_count": null,
   "metadata": {},
   "outputs": [],
   "source": [
    "weather_api()"
   ]
  },
  {
   "cell_type": "markdown",
   "metadata": {},
   "source": [
    "### Match Site location with SA2 area"
   ]
  },
  {
   "cell_type": "code",
   "execution_count": null,
   "metadata": {},
   "outputs": [],
   "source": [
    "SITE_SA2 = []\n",
    "def find_sa2(lon, lat, sf):\n",
    "    point = Point(lon, lat)\n",
    "    for _, row in sf.iterrows():\n",
    "        sa2_code = row['SA2_CODE21']\n",
    "        sa2_name = row['SA2_NAME21']\n",
    "        sa2_site = row['geometry']\n",
    "        if point.within(sa2_site):\n",
    "            return sa2_code, sa2_name\n",
    "    return \"not found\", \"not found\"\n",
    "\n",
    "def site_sa2():\n",
    "    sf = gpd.read_file(\"../SA2_shape/SA2_2021_AUST_GDA2020.shp\")\n",
    "    sf['geometry'] = sf['geometry'].to_crs(\"+proj=longlat +ellps=WGS84 +datum=WGS84 +no_defs\")\n",
    "    with open(\"weather_APIs.json\", 'r') as f:\n",
    "        weather_apis = json.load(f)\n",
    "    for site, url in weather_apis.items():\n",
    "        try:\n",
    "            response = requests.get(url, timeout=60)\n",
    "            if response.status_code == 200:\n",
    "                data = response.json()\n",
    "                lon, lat = data[\"observations\"][\"data\"][0].get(\"lon\", \"\"), data[\"observations\"][\"data\"][0].get(\"lat\", \"\")\n",
    "                sa2_code, sa2_name = find_sa2(lon, lat, sf)\n",
    "                SITE_SA2.append({\"site\": site, \"sa2_code\": sa2_code, \"sa2_name\": sa2_name, \"location\": (lon, lat)})\n",
    "        except requests.exceptions.Timeout:\n",
    "            print()\n",
    "        except requests.exceptions.RequestException as e:\n",
    "            print(e)\n",
    "            \n",
    "    return None\n",
    "\n"
   ]
  },
  {
   "cell_type": "code",
   "execution_count": null,
   "metadata": {},
   "outputs": [],
   "source": [
    "site_sa2()\n",
    "with open(\"../data/site_sa2.json\", 'w') as f:\n",
    "    json.dump(SITE_SA2, f)"
   ]
  },
  {
   "cell_type": "markdown",
   "metadata": {},
   "source": [
    "### Find centroid for all sa2 area"
   ]
  },
  {
   "cell_type": "code",
   "execution_count": 10,
   "metadata": {},
   "outputs": [],
   "source": [
    "sf = gpd.read_file(\"../SA2_shape/SA2_2021_AUST_GDA2020.shp\")\n",
    "sf = sf[[\"SA2_CODE21\", \"SA2_NAME21\", \"geometry\"]]\n",
    "sf['geometry'] = sf['geometry'].to_crs(\"+proj=longlat +ellps=WGS84 +datum=WGS84 +no_defs\")\n",
    "sf = sf.dropna()"
   ]
  },
  {
   "cell_type": "code",
   "execution_count": 13,
   "metadata": {},
   "outputs": [],
   "source": [
    "all_sa2 = []\n",
    "for i in range(len(sf)):\n",
    "    row = sf.iloc[i]\n",
    "    point = row['geometry'].centroid\n",
    "    all_sa2.append({\n",
    "        \"sa2_code\": row[\"SA2_CODE21\"],\n",
    "        \"sa2_name\": row[\"SA2_NAME21\"],\n",
    "        \"lon\": point.x,\n",
    "        \"lat\": point.y\n",
    "    })\n",
    "with open(\"../data/All_SA2.json\",'w') as f:\n",
    "    json.dump(all_sa2, f)"
   ]
  }
 ],
 "metadata": {
  "kernelspec": {
   "display_name": "base",
   "language": "python",
   "name": "python3"
  },
  "language_info": {
   "codemirror_mode": {
    "name": "ipython",
    "version": 3
   },
   "file_extension": ".py",
   "mimetype": "text/x-python",
   "name": "python",
   "nbconvert_exporter": "python",
   "pygments_lexer": "ipython3",
   "version": "3.12.2"
  }
 },
 "nbformat": 4,
 "nbformat_minor": 2
}
